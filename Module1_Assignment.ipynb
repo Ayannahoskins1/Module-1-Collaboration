{
 "cells": [
  {
   "cell_type": "code",
   "execution_count": 7,
   "id": "205ad179-b3f8-4255-b351-ebfc88746221",
   "metadata": {},
   "outputs": [],
   "source": [
    "# 3.2 Save it in a variable\n",
    "seconds_per_hour = 60 * 60  # Calculate seconds per hour correctly"
   ]
  },
  {
   "cell_type": "code",
   "execution_count": 8,
   "id": "79224de6-db5c-4912-bc8b-81a92dc04320",
   "metadata": {},
   "outputs": [],
   "source": [
    "# 3.2 Save it in a variable\n",
    "seconds_per_hour = 60 * 60  # Calculate seconds per hour: 60 seconds * 60 minutes"
   ]
  },
  {
   "cell_type": "code",
   "execution_count": 10,
   "id": "e0631d75-8bcf-4475-a66c-87b683415d6a",
   "metadata": {},
   "outputs": [
    {
     "data": {
      "text/plain": [
       "86400"
      ]
     },
     "execution_count": 10,
     "metadata": {},
     "output_type": "execute_result"
    }
   ],
   "source": [
    "# 3.3 How many seconds in a day?\n",
    "seconds_per_hour = 60 * 60  # This line was missing in your code\n",
    "seconds_per_day = seconds_per_hour * 24\n",
    "seconds_per_day"
   ]
  },
  {
   "cell_type": "code",
   "execution_count": 11,
   "id": "ea328c1b-e9b7-491d-8f05-a47550bd69dd",
   "metadata": {},
   "outputs": [],
   "source": [
    "# 3.4 Already saved in variable\n",
    "# Done in 3.3 (seconds_per_day)# 3.5 Divide seconds_per_day by seconds_per_hour (float)\n",
    "seconds_per_day / seconds_per_hour  # should be 24.0"
   ]
  },
  {
   "cell_type": "code",
   "execution_count": 12,
   "id": "8c7a5915-c9e8-46ab-907b-03786c1a508d",
   "metadata": {},
   "outputs": [
    {
     "ename": "SyntaxError",
     "evalue": "invalid syntax (1208736343.py, line 1)",
     "output_type": "error",
     "traceback": [
      "\u001b[1;36m  Cell \u001b[1;32mIn[12], line 1\u001b[1;36m\u001b[0m\n\u001b[1;33m    3.5 Divide seconds_per_day by seconds_per_hour (float)\u001b[0m\n\u001b[1;37m        ^\u001b[0m\n\u001b[1;31mSyntaxError\u001b[0m\u001b[1;31m:\u001b[0m invalid syntax\n"
     ]
    }
   ],
   "source": [
    "3.5 Divide seconds_per_day by seconds_per_hour (float)\n",
    "seconds_per_day / seconds_per_hour # should be 24.0"
   ]
  },
  {
   "cell_type": "code",
   "execution_count": null,
   "id": "eaed6d2f-049b-48c1-ae4b-a55815daecb3",
   "metadata": {},
   "outputs": [],
   "source": []
  }
 ],
 "metadata": {
  "kernelspec": {
   "display_name": "Python [conda env:base] *",
   "language": "python",
   "name": "conda-base-py"
  },
  "language_info": {
   "codemirror_mode": {
    "name": "ipython",
    "version": 3
   },
   "file_extension": ".py",
   "mimetype": "text/x-python",
   "name": "python",
   "nbconvert_exporter": "python",
   "pygments_lexer": "ipython3",
   "version": "3.13.5"
  }
 },
 "nbformat": 4,
 "nbformat_minor": 5
}
